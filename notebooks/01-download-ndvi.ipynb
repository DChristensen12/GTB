{
 "cells": [
  {
   "cell_type": "markdown",
   "id": "4fd5031d",
   "metadata": {},
   "source": [
    "### 📥 Sentinel-2 NDVI Export (California Test Region)\n",
    "\n",
    "This step initiates the download of a normalized difference vegetation index (NDVI) image using Sentinel-2 surface reflectance data from **Google Earth Engine**. The target area is a small test region in **California**, with imagery filtered for:\n",
    "\n",
    "- Low cloud cover (<10%)\n",
    "- A specific date range (June 1–30, 2023)\n",
    "- 10-meter spatial resolution\n",
    "\n",
    "The NDVI is calculated using the NIR (Band 8) and Red (Band 4) bands, and the resulting image will be exported to your **Google Drive** inside a folder called `GTB_Exports` under the name `california_june_ndvi.tif`."
   ]
  },
  {
   "cell_type": "code",
   "execution_count": null,
   "id": "9f2d4970",
   "metadata": {
    "vscode": {
     "languageId": "plaintext"
    }
   },
   "outputs": [],
   "source": [
    "import ee\n",
    "\n",
    "# This opens a browser to log in with your Google account\n",
    "ee.Authenticate()\n",
    "\n",
    "# After authenticating, initialize the session\n",
    "ee.Initialize()\n",
    "\n",
    "print(\"Earth Engine is authenticated and initialized!\")\n"
   ]
  },
  {
   "cell_type": "code",
   "execution_count": null,
   "id": "ef6accf5",
   "metadata": {
    "vscode": {
     "languageId": "plaintext"
    }
   },
   "outputs": [],
   "source": [
    "# Import the NDVI download function from the custom data module\n",
    "from src.data.load_sentinel import download_sentinel_ndvi\n",
    "\n",
    "# Define a rectangular region of interest (ROI) in California\n",
    "# Coordinates are in [longitude, latitude] format\n",
    "region = [[\n",
    "    [-121.9, 37.3],  # Bottom-left corner\n",
    "    [-121.9, 37.4],  # Top-left corner\n",
    "    [-121.8, 37.4],  # Top-right corner\n",
    "    [-121.8, 37.3]   # Bottom-right corner\n",
    "]]\n",
    "\n",
    "# Trigger the export of NDVI from Sentinel-2 data:\n",
    " \"\"\"for the specified region\n",
    "    between June 1 and June 30, 2023\n",
    "    result will be named 'california_june_ndvi' in your Google Drive\"\"\"\n",
    "download_sentinel_ndvi(region, '2023-06-01', '2023-06-30', 'california_june_ndvi')"
   ]
  }
 ],
 "metadata": {
  "language_info": {
   "name": "python"
  }
 },
 "nbformat": 4,
 "nbformat_minor": 5
}
